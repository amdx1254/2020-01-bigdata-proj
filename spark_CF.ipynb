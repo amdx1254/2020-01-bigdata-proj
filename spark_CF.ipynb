{
  "nbformat": 4,
  "nbformat_minor": 0,
  "metadata": {
    "colab": {
      "name": "test_spark.ipynb의 사본",
      "provenance": [],
      "collapsed_sections": []
    },
    "kernelspec": {
      "name": "python3",
      "display_name": "Python 3"
    }
  },
  "cells": [
    {
      "cell_type": "code",
      "metadata": {
        "id": "68JUT2yivscO",
        "colab_type": "code",
        "colab": {}
      },
      "source": [
        "import findspark\n",
        "findspark.init()"
      ],
      "execution_count": 0,
      "outputs": []
    },
    {
      "cell_type": "code",
      "metadata": {
        "id": "lKC171MMvDjg",
        "colab_type": "code",
        "colab": {}
      },
      "source": [
        "import pyspark.sql.functions as sql_func\n",
        "from pyspark.sql.types import *\n",
        "from pyspark.ml.recommendation import ALS, ALSModel\n",
        "from pyspark.context import SparkContext\n",
        "from pyspark.sql.session import SparkSession\n",
        "from pyspark.mllib.evaluation import RegressionMetrics, RankingMetrics\n",
        "from pyspark.ml.evaluation import RegressionEvaluator\n",
        "\n",
        "sc = SparkContext('local') #https://stackoverflow.com/questions/30763951/spark-context-sc-not-defined\n",
        "spark = SparkSession(sc)"
      ],
      "execution_count": 0,
      "outputs": []
    },
    {
      "cell_type": "code",
      "metadata": {
        "id": "e6I-oAyPvv4W",
        "colab_type": "code",
        "outputId": "ae828f77-b104-4457-f045-24ae44e63421",
        "colab": {
          "base_uri": "https://localhost:8080/",
          "height": 35
        }
      },
      "source": [
        "import csv\n",
        "import ast\n",
        "fr = open('users.csv', 'r', encoding='utf-8')\n",
        "fw = open('users2.csv', 'w', encoding='utf-8')\n",
        "rdr = csv.reader(fr)\n",
        "final_list = []\n",
        "final_list.append(['user_id', 'funding_id', 'funding_name', 'category', 'backedAmount'])\n",
        "for line in rdr:\n",
        "    funding_list = ast.literal_eval(line[1])\n",
        "    userid = line[0]\n",
        "    for fund in funding_list:\n",
        "      funding_id = fund[0]\n",
        "      funding_name = fund[1]\n",
        "      \n",
        "      category = fund[2]\n",
        "      backedAmount = fund[3]\n",
        "      if int(userid) == 0:\n",
        "          print(funding_id)\n",
        "      if backedAmount == \"###\":\n",
        "          backedAmount = 0\n",
        "      if backedAmount == None:\n",
        "          print(backedAmount)\n",
        "      backedAmount = int(backedAmount)\n",
        "      if backedAmount > 0:\n",
        "          backedAmount = 1\n",
        "      else:\n",
        "          backedAmount = 0\n",
        "      \n",
        "      final_list.append([userid, funding_id, funding_name,category, backedAmount])\n",
        "  \n",
        "wtr = csv.writer(fw)\n",
        "for row in final_list:\n",
        "    wtr.writerow(row)\n",
        "print(len(final_list))\n",
        "fr.close()\n",
        "fw.close()"
      ],
      "execution_count": 0,
      "outputs": [
        {
          "output_type": "stream",
          "text": [
            "92606\n"
          ],
          "name": "stdout"
        }
      ]
    },
    {
      "cell_type": "code",
      "metadata": {
        "id": "SkNkqSP30HwN",
        "colab_type": "code",
        "outputId": "d5cc9315-2567-4f91-c2f6-19df4b44b544",
        "colab": {
          "base_uri": "https://localhost:8080/",
          "height": 35
        }
      },
      "source": [
        "final_stat = spark.read.csv(\n",
        "    'users2.csv', header=True, inferSchema=True\n",
        ")\n",
        "final_stat = final_stat.withColumn(\"backedAmount\", final_stat[\"backedAmount\"].cast(\"double\"))\n",
        "final_stat = final_stat.fillna({'backedAmount':0.0})\n",
        "final_stat"
      ],
      "execution_count": 0,
      "outputs": [
        {
          "output_type": "execute_result",
          "data": {
            "text/plain": [
              "DataFrame[user_id: int, funding_id: int, funding_name: string, category: string, backedAmount: double]"
            ]
          },
          "metadata": {
            "tags": []
          },
          "execution_count": 7
        }
      ]
    },
    {
      "cell_type": "code",
      "metadata": {
        "id": "O_a5hB3P0Znk",
        "colab_type": "code",
        "outputId": "5d7fec94-4b2a-4636-92d0-08222fdcd11b",
        "colab": {
          "base_uri": "https://localhost:8080/",
          "height": 35
        }
      },
      "source": [
        "ratings = (final_stat\n",
        "    .select(\n",
        "        'user_id',\n",
        "        'funding_id',\n",
        "        'backedAmount',\n",
        "    )\n",
        ")\n",
        "ratings"
      ],
      "execution_count": 0,
      "outputs": [
        {
          "output_type": "execute_result",
          "data": {
            "text/plain": [
              "DataFrame[user_id: int, funding_id: int, backedAmount: double]"
            ]
          },
          "metadata": {
            "tags": []
          },
          "execution_count": 8
        }
      ]
    },
    {
      "cell_type": "code",
      "metadata": {
        "id": "gUG_g8sp0fr2",
        "colab_type": "code",
        "outputId": "0ffdf49b-af4f-4972-8b15-8de0edc2d635",
        "colab": {
          "base_uri": "https://localhost:8080/",
          "height": 107
        }
      },
      "source": [
        "ratings.filter(\"backedAmount is NULL\").show()"
      ],
      "execution_count": 0,
      "outputs": [
        {
          "output_type": "stream",
          "text": [
            "+-------+----------+------------+\n",
            "|user_id|funding_id|backedAmount|\n",
            "+-------+----------+------------+\n",
            "+-------+----------+------------+\n",
            "\n"
          ],
          "name": "stdout"
        }
      ]
    },
    {
      "cell_type": "code",
      "metadata": {
        "id": "-zCt0KXC2Q7s",
        "colab_type": "code",
        "outputId": "51c88703-b64e-49c7-94b5-b12a962a42b9",
        "colab": {
          "base_uri": "https://localhost:8080/",
          "height": 953
        }
      },
      "source": [
        "(training, test) = ratings.randomSplit([0.8, 0.2], seed=13)\n",
        "training.show()\n",
        "test.show()"
      ],
      "execution_count": 0,
      "outputs": [
        {
          "output_type": "stream",
          "text": [
            "+-------+----------+------------+\n",
            "|user_id|funding_id|backedAmount|\n",
            "+-------+----------+------------+\n",
            "|   8001|     64361|         1.0|\n",
            "|  17201|     64622|         1.0|\n",
            "|  21101|     61741|         1.0|\n",
            "| 185301|     63146|         1.0|\n",
            "| 190201|     65019|         1.0|\n",
            "| 190401|     64532|         0.0|\n",
            "| 190401|     64532|         1.0|\n",
            "| 210201|     61319|         0.0|\n",
            "| 210201|     63641|         0.0|\n",
            "| 210201|     63641|         1.0|\n",
            "| 216201|     65751|         1.0|\n",
            "| 230401|     63736|         1.0|\n",
            "| 230401|     63736|         1.0|\n",
            "| 322701|     64138|         0.0|\n",
            "| 322701|     64138|         1.0|\n",
            "| 346601|     64361|         0.0|\n",
            "| 357901|     67334|         1.0|\n",
            "| 364801|     66538|         1.0|\n",
            "| 385601|     62180|         1.0|\n",
            "| 385701|     65751|         1.0|\n",
            "+-------+----------+------------+\n",
            "only showing top 20 rows\n",
            "\n",
            "+-------+----------+------------+\n",
            "|user_id|funding_id|backedAmount|\n",
            "+-------+----------+------------+\n",
            "|  16401|     64622|         1.0|\n",
            "|  34101|     65608|         1.0|\n",
            "| 326201|     64470|         1.0|\n",
            "| 433001|     63391|         1.0|\n",
            "| 521701|     64840|         0.0|\n",
            "| 535701|     62986|         1.0|\n",
            "| 665201|     62986|         1.0|\n",
            "| 737701|     65891|         1.0|\n",
            "| 794901|     63342|         1.0|\n",
            "| 794901|     64497|         1.0|\n",
            "| 794901|     65394|         0.0|\n",
            "| 794901|     65394|         1.0|\n",
            "| 927701|     62895|         0.0|\n",
            "| 950001|     65394|         0.0|\n",
            "| 950001|     65394|         1.0|\n",
            "| 950701|     64840|         1.0|\n",
            "| 951001|     66695|         0.0|\n",
            "| 971001|     61412|         1.0|\n",
            "| 971001|     65274|         1.0|\n",
            "| 972301|     65783|         1.0|\n",
            "+-------+----------+------------+\n",
            "only showing top 20 rows\n",
            "\n"
          ],
          "name": "stdout"
        }
      ]
    },
    {
      "cell_type": "code",
      "metadata": {
        "id": "Yvwcs9PD2Rjp",
        "colab_type": "code",
        "outputId": "bf70971d-0f22-4a49-9d73-6f0baf725b91",
        "colab": {
          "base_uri": "https://localhost:8080/",
          "height": 35
        }
      },
      "source": [
        "# Build the recommendation model using ALS on the training data\n",
        "# Note we set cold start strategy to 'drop' to ensure we don't get NaN evaluation metrics\n",
        "als = ALS(rank=50, maxIter=20, regParam=0.01, \n",
        "          userCol=\"user_id\", itemCol=\"funding_id\", ratingCol=\"backedAmount\",\n",
        "          coldStartStrategy=\"drop\",\n",
        "          implicitPrefs=False)\n",
        "model = als.fit(training)\n",
        "\n",
        "# Evaluate the model by computing the RMSE on the test data\n",
        "predictions = model.transform(test)\n",
        "evaluator = RegressionEvaluator(metricName=\"rmse\", labelCol=\"backedAmount\",\n",
        "                                predictionCol=\"prediction\")\n",
        "\n",
        "rmse = evaluator.evaluate(predictions)\n",
        "print(\"Root-mean-square error = \" + str(rmse))\n"
      ],
      "execution_count": 0,
      "outputs": [
        {
          "output_type": "stream",
          "text": [
            "Root-mean-square error = 0.5854425881031863\n"
          ],
          "name": "stdout"
        }
      ]
    },
    {
      "cell_type": "code",
      "metadata": {
        "id": "6xQQ0wHc5Zfr",
        "colab_type": "code",
        "outputId": "a3890225-c965-41c3-c843-3e9f3f32defb",
        "colab": {
          "base_uri": "https://localhost:8080/",
          "height": 35
        }
      },
      "source": [
        "# Generate top 10 movie recommendations for each user\n",
        "userRecs = model.recommendForAllUsers(10)\n",
        "userRecs.count()\n",
        "# Generate top 10 user recommendations for each movie\n",
        "movieRecs = model.recommendForAllItems(10)\n",
        "movieRecs.count()"
      ],
      "execution_count": 0,
      "outputs": [
        {
          "output_type": "execute_result",
          "data": {
            "text/plain": [
              "536"
            ]
          },
          "metadata": {
            "tags": []
          },
          "execution_count": 12
        }
      ]
    },
    {
      "cell_type": "code",
      "metadata": {
        "id": "Oo_9f2nINCZx",
        "colab_type": "code",
        "outputId": "38d3a374-76ea-4ee5-f714-84e6ebe29210",
        "colab": {
          "base_uri": "https://localhost:8080/",
          "height": 485
        }
      },
      "source": [
        "userRecs.show()"
      ],
      "execution_count": 0,
      "outputs": [
        {
          "output_type": "stream",
          "text": [
            "+--------+--------------------+\n",
            "| user_id|     recommendations|\n",
            "+--------+--------------------+\n",
            "|  441201|[[65614, 0.990398...|\n",
            "| 8423901|[[63665, 0.992011...|\n",
            "|12329801|[[64681, 1.168954...|\n",
            "|14561301|[[64848, 0.984471...|\n",
            "|15401901|[[61485, 0.990892...|\n",
            "|19338701|[[62180, 0.989405...|\n",
            "|20201901|[[62454, 1.16091]...|\n",
            "|20568101|[[57211, 0.0], [5...|\n",
            "|21747001|[[62728, 0.989998...|\n",
            "|22592701|[[64711, 1.033966...|\n",
            "|22896701|[[62454, 1.075294...|\n",
            "|25169601|[[64672, 0.988291...|\n",
            "|26009201|[[65263, 0.946537...|\n",
            "|26484901|[[63616, 0.992462...|\n",
            "|27501301|[[57211, 0.0], [5...|\n",
            "|31317401|[[65331, 0.993791...|\n",
            "|34254901|[[57211, 0.0], [5...|\n",
            "|35146001|[[60667, 0.988737...|\n",
            "|35937001|[[61525, 0.987707...|\n",
            "|37230601|[[65928, 1.124818...|\n",
            "+--------+--------------------+\n",
            "only showing top 20 rows\n",
            "\n"
          ],
          "name": "stdout"
        }
      ]
    },
    {
      "cell_type": "code",
      "metadata": {
        "id": "9BWaCXliNIry",
        "colab_type": "code",
        "outputId": "a7e184ae-72c2-47c8-86a3-1b711943a8b1",
        "colab": {
          "base_uri": "https://localhost:8080/",
          "height": 35
        }
      },
      "source": [
        "movieRecs.count()"
      ],
      "execution_count": 0,
      "outputs": [
        {
          "output_type": "execute_result",
          "data": {
            "text/plain": [
              "536"
            ]
          },
          "metadata": {
            "tags": []
          },
          "execution_count": 15
        }
      ]
    }
  ]
}